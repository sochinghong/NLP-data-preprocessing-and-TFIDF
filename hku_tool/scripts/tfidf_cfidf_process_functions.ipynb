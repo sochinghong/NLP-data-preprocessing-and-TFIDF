{
 "cells": [
  {
   "cell_type": "markdown",
   "metadata": {},
   "source": [
    "## 1. Import all the packages/libraries first! <font color=\"#FF0000\">(Execute Only)</font>"
   ]
  },
  {
   "cell_type": "code",
   "execution_count": null,
   "metadata": {
    "jupyter": {
     "source_hidden": true
    },
    "tags": []
   },
   "outputs": [],
   "source": [
    "#=========== RUN ME =========== \n",
    "import os\n",
    "import re\n",
    "import ast\n",
    "import glob\n",
    "import asyncio\n",
    "import pandas as pd\n",
    "import dask.dataframe as dd\n",
    "import numpy as np\n",
    "import swifter\n",
    "import functools\n",
    "import ipywidgets as widgets\n",
    "# from yaspin import yaspin\n",
    "from os import path\n",
    "from os import listdir\n",
    "from os import remove\n",
    "# from threading import Timer\n",
    "from collections import Counter\n",
    "from collections import OrderedDict\n",
    "from datetime import datetime\n",
    "from tqdm import tqdm\n",
    "# from rich.progress import track\n",
    "# from alive_progress import alive_bar\n",
    "from modin.config import ProgressBar\n",
    "ProgressBar.enable()\n",
    "from IPython.display import display, clear_output\n",
    "from ipywidgets import interact, interactive, fixed, interact_manual, \\\n",
    "HBox, VBox, Button, HTML, Tab, Output\n",
    "from sklearn.feature_extraction.text import TfidfVectorizer\n",
    "from sklearn.feature_extraction.text import TfidfTransformer\n",
    "from sklearn.feature_extraction.text import CountVectorizer"
   ]
  },
  {
   "cell_type": "markdown",
   "metadata": {},
   "source": [
    "### 1.1 Set Global Variables for your project <font color=\"#FF0000\">(Execute Only)</font>"
   ]
  },
  {
   "cell_type": "code",
   "execution_count": null,
   "metadata": {
    "jupyter": {
     "source_hidden": true
    },
    "tags": []
   },
   "outputs": [],
   "source": [
    "#Get absolute path instead of relative path\n",
    "DIR = path.dirname(path.abspath(\"__file__\"))\n",
    "CSV_PATH = None\n",
    "CSV_PATH2 = None\n",
    "DEST_PATH = None\n",
    "CFIDF_CSV_PATH = None\n",
    "TFIDF_CSV_PATH = None\n",
    "RANGE = 0"
   ]
  },
  {
   "cell_type": "markdown",
   "metadata": {
    "tags": []
   },
   "source": [
    "### 1.2 Initialize Widgets #Debounce & Main <font color=\"#FF0000\">(Execute Only)</font>"
   ]
  },
  {
   "cell_type": "code",
   "execution_count": null,
   "metadata": {
    "jupyter": {
     "source_hidden": true
    },
    "tags": []
   },
   "outputs": [],
   "source": [
    "# Debounce\n",
    "class Timer:\n",
    "    def __init__(self, timeout, callback):\n",
    "        self._timeout = timeout\n",
    "        self._callback = callback\n",
    "\n",
    "    async def _job(self):\n",
    "        await asyncio.sleep(self._timeout)\n",
    "        self._callback()\n",
    "\n",
    "    def start(self):\n",
    "        self._task = asyncio.ensure_future(self._job())\n",
    "\n",
    "    def cancel(self):\n",
    "        self._task.cancel()\n",
    "\n",
    "def debounce(wait):\n",
    "    \"\"\" Decorator that will postpone a function's\n",
    "        execution until after `wait` seconds\n",
    "        have elapsed since the last time it was invoked. \"\"\"\n",
    "    def decorator(fn):\n",
    "        timer = None\n",
    "        def debounced(*args, **kwargs):\n",
    "            nonlocal timer\n",
    "            def call_it():\n",
    "                fn(*args, **kwargs)\n",
    "            if timer is not None:\n",
    "                timer.cancel()\n",
    "            timer = Timer(wait, call_it)\n",
    "            timer.start()\n",
    "        return debounced\n",
    "    return decorator\n",
    "    \n",
    "# Folder Dropdown\n",
    "foldersOnly = list(filter(lambda x: path.isdir(x), listdir(DIR)))\n",
    "\n",
    "def Dropdown(options, desc):\n",
    "  return widgets.Dropdown(\n",
    "    options=options,\n",
    "    description=desc,\n",
    "    disabled=False,\n",
    "  )\n",
    "\n",
    "# Folder Path Display Dropdown\n",
    "folderPathLayout = widgets.Layout(width='auto')\n",
    "\n",
    "def folderDisplay(desc):\n",
    "  return widgets.Text(\n",
    "    value='',\n",
    "    placeholder='',\n",
    "    description=desc,\n",
    "    disabled=True,\n",
    "    layout=folderPathLayout\n",
    ")\n",
    "\n",
    "# Button\n",
    "def button(desc):\n",
    "  return widgets.Button(description=desc)\n",
    "\n",
    "## Bounded Integer\n",
    "def boundedInt():\n",
    "  return widgets.BoundedIntText(\n",
    "    value=0,\n",
    "    min=1,\n",
    "    step=1,\n",
    "    description=f'Position: ',\n",
    "    disabled=False\n",
    "  )\n",
    "\n",
    "## Text\n",
    "def inputText(desc):\n",
    "  return widgets.Text(\n",
    "    value='',\n",
    "    placeholder='Type something here',\n",
    "    description=desc,\n",
    "    disabled=False\n",
    ")"
   ]
  },
  {
   "cell_type": "markdown",
   "metadata": {},
   "source": [
    "### 1.3 Initialize Widgets #Functions <font color=\"#FF0000\">(Execute Only)</font>"
   ]
  },
  {
   "cell_type": "code",
   "execution_count": 2,
   "metadata": {
    "jupyter": {
     "source_hidden": true
    },
    "tags": []
   },
   "outputs": [
    {
     "ename": "NameError",
     "evalue": "name 'listdir' is not defined",
     "output_type": "error",
     "traceback": [
      "\u001b[1;31m---------------------------------------------------------------------------\u001b[0m",
      "\u001b[1;31mNameError\u001b[0m                                 Traceback (most recent call last)",
      "Cell \u001b[1;32mIn [2], line 1\u001b[0m\n\u001b[1;32m----> 1\u001b[0m foldersOnly \u001b[39m=\u001b[39m \u001b[39mlist\u001b[39m(\u001b[39mfilter\u001b[39m(\u001b[39mlambda\u001b[39;00m x: path\u001b[39m.\u001b[39misdir(x), listdir(DIR)))\n\u001b[0;32m      2\u001b[0m \u001b[39m#Widgets\u001b[39;00m\n\u001b[0;32m      3\u001b[0m \u001b[39m# ===== Folder =====\u001b[39;00m\n\u001b[0;32m      4\u001b[0m folder_dropdown1 \u001b[39m=\u001b[39m Dropdown(foldersOnly, \u001b[39m'\u001b[39m\u001b[39mFolders: \u001b[39m\u001b[39m'\u001b[39m)\n",
      "\u001b[1;31mNameError\u001b[0m: name 'listdir' is not defined"
     ]
    }
   ],
   "source": [
    "foldersOnly = list(filter(lambda x: path.isdir(x), listdir(DIR)))\n",
    "#Widgets\n",
    "# ===== Folder =====\n",
    "folder_dropdown1 = Dropdown(foldersOnly, 'Folders: ')\n",
    "# ===== File =====\n",
    "file_dropdown1 = Dropdown([], 'Select Folder: ')\n",
    "\n",
    "file_dropdown1.style = {'description_width': 'initial'}\n",
    "# ===== Select Column =====\n",
    "columnsDropdown_1 = Dropdown([], 'Select Column: ')\n",
    "columnsDropdown_2 = Dropdown([], 'Select Column: ')\n",
    "columnsDropdown_3 = Dropdown([], 'Select Column: ')\n",
    "\n",
    "columnsDropdown_1.style = {'description_width': 'initial'}\n",
    "columnsDropdown_2.style = {'description_width': 'initial'}\n",
    "columnsDropdown_3.style = {'description_width': 'initial'}\n",
    "# ==== Input Text ====\n",
    "input_Text = inputText('File name:')\n",
    "# ===== Folder path display =====\n",
    "folder_pathDisplay1 = folderDisplay('Folder Path: ')\n",
    "# =====\n",
    "btn_load1 = button('Load Source!')\n",
    "btn_load2 = button('Load Previous!')\n",
    "btn_load3 = button('Load Previous!')\n",
    "btn_setDest = button('Set Path!')\n",
    "btn_setRange = button('Set Range!')\n",
    "btn_setRange.style = {'description_width': 'initial'}\n",
    "btn_exeFx = button('Execute!')\n",
    "btn_setFileName = button('Set!')\n",
    "\n",
    "btn_setRange.style = {'description_width': 'initial'}\n",
    "# =====\n",
    "input_boundedInt = boundedInt()\n",
    "# =====\n",
    "\n",
    "# ===========================\n",
    "# ===========================\n",
    "# ===========================\n",
    "\n",
    "# Functions\n",
    "@debounce(0.5)\n",
    "def changeFolder(change):\n",
    "  folder_pathDisplay1.value = path.join(DIR, change['new'])\n",
    "  file_dropdown1.options = listdir(folder_pathDisplay1.value)\n",
    "\n",
    "# Functions for Reading Corpus\n",
    "def loadDataset(btn):\n",
    "  global CSV_PATH\n",
    "  CSV_PATH = glob.glob(path.join(folder_pathDisplay1.value, file_dropdown1.value, '*.csv'))\n",
    "  print(f\"Successfully set {file_dropdown1.value} as dataset source\")\n",
    "\n",
    "def loadDataset_clear(btn):\n",
    "  global CSV_PATH\n",
    "  CSV_PATH = glob.glob(path.join(folder_pathDisplay1.value, file_dropdown1.value, '*.csv'))\n",
    "  # clear_output(wait=True)\n",
    "  print(f\"Successfully set {file_dropdown1.value} as dataset source\")\n",
    "\n",
    "def loadDataset_clear2(btn):\n",
    "  global CSV_PATH2\n",
    "  CSV_PATH2 = glob.glob(path.join(folder_pathDisplay1.value, file_dropdown1.value, '*.csv'))\n",
    "  # clear_output(wait=True)\n",
    "  print(f\"Successfully set {file_dropdown1.value} as dataset source\")\n",
    "\n",
    "def loadTFIDFDataset(btn):\n",
    "  global TFIDF_CSV_PATH\n",
    "  TFIDF_CSV_PATH = glob.iglob(path.join(folder_pathDisplay1.value, file_dropdown1.value, '*.csv'))\n",
    "  print(f\"Successfully set {TFIDF_CSV_PATH} as TFIDF dataset source\")\n",
    "\n",
    "def loadCFIDFDataset(btn):\n",
    "  global CFIDF_CSV_PATH\n",
    "  CFIDF_CSV_PATH = glob.iglob(path.join(folder_pathDisplay1.value, file_dropdown1.value, '*.csv'))\n",
    "  print(f\"Successfully set {CFIDF_CSV_PATH} as CSIDF dataset source\")\n",
    "\n",
    "def setDestination(btn):\n",
    "  global RANGE, DEST_PATH\n",
    "  RANGE = 1\n",
    "  DEST_PATH = path.join(folder_pathDisplay1.value, file_dropdown1.value)\n",
    "  print(f\"Successfully set {DEST_PATH} as destination\")\n",
    "  print(f\"Default file starting position is {RANGE}\")\n",
    "\n",
    "def setRange(btn):\n",
    "  global RANGE\n",
    "  RANGE = input_boundedInt.value\n",
    "  print(f\"Successfully set file starting position to {RANGE}\")\n",
    "  \n",
    "folder_dropdown1.observe(changeFolder, 'value')"
   ]
  },
  {
   "cell_type": "markdown",
   "metadata": {},
   "source": [
    "### 1.4 Initialize Widgets #Tabs <font color=\"#FF0000\">(Execute Only)</font>"
   ]
  },
  {
   "cell_type": "code",
   "execution_count": null,
   "metadata": {
    "jupyter": {
     "source_hidden": true
    },
    "tags": []
   },
   "outputs": [],
   "source": [
    "tabTitles = [\"Load Dataset\", \"Load Previous Output\", \"Load Previous Output\", \"Set Output Destination\", \"Set Range\", \"Execute!\"]\n",
    "tabTitles2 = [\"Load Dataset\", \"Set File Name\", \"Select Column\", \"Load Previous Output\", \"Load Previous Output\", \"Set Output Destination\", \"Set Range\", \"Execute!\"]\n",
    "#Tab\n",
    "tab = Tab()\n",
    "#Tab Widgets\n",
    "tab_load1 = VBox([\n",
    "  widgets.HTML(value=\"<b><font style='color:red'>Select & Load your dataset Folder:</font></b>\"),\n",
    "  folder_dropdown1,\n",
    "  folder_pathDisplay1,\n",
    "  file_dropdown1,\n",
    "  btn_load1\n",
    "])\n",
    "\n",
    "tab_setFileName = VBox([\n",
    "  widgets.HTML(value=\"<b>Default output to main folder not assets!!</b>\"),\n",
    "  widgets.HTML(value=\"<b><font style='color:red'>Set output filename:</font></b>\"),\n",
    "  input_Text,\n",
    "  btn_setFileName\n",
    "])\n",
    "\n",
    "tab_loadPrevious = VBox([\n",
    "  widgets.HTML(value=\"Select & Load your previous output folder\"),\n",
    "  folder_dropdown1,\n",
    "  folder_pathDisplay1,\n",
    "  file_dropdown1,\n",
    "  btn_load2\n",
    "])\n",
    "\n",
    "tab_loadPrevious2 = VBox([\n",
    "  widgets.HTML(value=\"Select & Load your previous output folder\"),\n",
    "  folder_dropdown1,\n",
    "  folder_pathDisplay1,\n",
    "  file_dropdown1,\n",
    "  btn_load3\n",
    "])\n",
    "\n",
    "tab_setDest = VBox([\n",
    "  widgets.HTML(value=\"Select Output Destination: <b><font style='color:red'>Make sure you have created a folder first!</font></b>\"),\n",
    "  folder_dropdown1,\n",
    "  folder_pathDisplay1,\n",
    "  file_dropdown1,\n",
    "  btn_setDest\n",
    "  ])\n",
    "\n",
    "tab_setRange = VBox([\n",
    "  widgets.HTML(value=\"Set the Starting Position for processing: <b>Default processing the <font style='color:red'>FIRST</font> file</b>\"),\n",
    "  input_boundedInt,\n",
    "  btn_setRange\n",
    "])\n",
    "\n",
    "tab_execute = VBox([\n",
    "  widgets.HTML(value='<b>If Everything is ready, Click the button below:</b>'),\n",
    "  btn_exeFx\n",
    "])"
   ]
  },
  {
   "cell_type": "markdown",
   "metadata": {},
   "source": [
    "## 3. All related functions Initialization (Path need modification)"
   ]
  },
  {
   "cell_type": "markdown",
   "metadata": {},
   "source": [
    "### 3.1 Initialize Jieba <font color=\"#FF0000\">(Execute Only)</font>"
   ]
  },
  {
   "cell_type": "code",
   "execution_count": null,
   "metadata": {
    "tags": []
   },
   "outputs": [],
   "source": [
    "#Jieba Initialization\n",
    "import jieba_pyfast2 as jbf2\n",
    "jbf2.set_dictionary('./assets/dict_big.txt')\n",
    "jbf2.load_userdict('./assets/jieba_canton_dict.txt')"
   ]
  },
  {
   "cell_type": "markdown",
   "metadata": {},
   "source": [
    "### 3.2 Reading Concept Corpus <font color=\"#FF0000\">(Execute Only)</font>"
   ]
  },
  {
   "cell_type": "code",
   "execution_count": null,
   "metadata": {
    "tags": []
   },
   "outputs": [],
   "source": [
    "conceptDict = {}\n",
    "PATH = glob.iglob(path.join(DIR, 'assets/concept_corpus/*.csv'))\n",
    "# Functions for Reading Corpus\n",
    "## Pre-processing\n",
    "def trimTerms(content):\n",
    "  return str(content).strip()\n",
    "\n",
    "def loadConceptCorpus():\n",
    "  global conceptDict\n",
    "  for CSV in PATH:\n",
    "    name = 'cfidf_concept_' + path.basename(CSV).split('.')[0]\n",
    "    conceptDict[name] = pd.read_csv(CSV, encoding='utf-8-sig', index_col=False)['Term'].to_numpy()\n",
    "  for key, value in conceptDict.items():\n",
    "    conceptDict[key] = np.vectorize(trimTerms)(value)\n",
    "  print(\"Done!\")\n",
    "\n",
    "loadConceptCorpus()"
   ]
  },
  {
   "cell_type": "markdown",
   "metadata": {},
   "source": [
    "### 3.3 Reading Stop Word <font color=\"#FF0000\">(Execute Only)</font>"
   ]
  },
  {
   "cell_type": "code",
   "execution_count": null,
   "metadata": {
    "tags": []
   },
   "outputs": [],
   "source": [
    "df_stopword = None\n",
    "PATH = path.join(DIR, 'assets/stopwords.txt')\n",
    "# Functions for Reading Stop Word\n",
    "def loadStopWord():\n",
    "  global df_stopword\n",
    "  df_stopword = pd.read_csv(PATH, delimiter=\"\\s+\", header=None, names=['word'])['word']\n",
    "  df_stopword = list(df_stopword)\n",
    "  df_stopword.append(' ')\n",
    "  print(\"Done!\")\n",
    "\n",
    "loadStopWord()"
   ]
  },
  {
   "cell_type": "markdown",
   "metadata": {},
   "source": [
    "### 3.4 Segmentation functions & Terms Counting functions (TFIDF) <font color=\"#FF0000\">(Execute Only)</font>"
   ]
  },
  {
   "cell_type": "code",
   "execution_count": null,
   "metadata": {
    "tags": []
   },
   "outputs": [],
   "source": [
    "# === RUN ===\n",
    "#Function for segmentating strings (Normal)\n",
    "def segmentation(row):\n",
    "    return list(filter(lambda x: x not in df_stopword, jbf2.lcut(str(row), HMM=True)))\n",
    "\n",
    "# Function for segnentating strings (Tfidf)\n",
    "# To fit the pattern required by scikit learn\n",
    "# Also filter out segmented words/terms that defined in \"Stop Word Corpus\"\n",
    "# Pattern Reference: https://scikit-learn.org/stable/modules/generated/sklearn.feature_extraction.text.CountVectorizer.html#sklearn.feature_extraction.text.CountVectorizer\n",
    "def segment_df_tfidf(row):\n",
    "    content = ' '.join(segmentation(row))\n",
    "    return content\n",
    "\n",
    "def segmented_df_tfidf(row):\n",
    "    content = ' '.join(ast.literal_eval(row))\n",
    "    return content\n",
    "\n",
    "def countTerms(content):\n",
    "  return dict(Counter(filter(lambda x: x not in df_stopword, content)))\n",
    "  \n",
    "def countTermsByCat(counter):\n",
    "  columns = {}\n",
    "  columns['total_no_of_terms'] = sum(counter.values())\n",
    "  for key, value in conceptDict.items():\n",
    "    columns[key] = sum(map(lambda x: counter.get(x), filter(lambda x: x in value, counter.keys())))\n",
    "  return pd.Series(columns)\n",
    "  "
   ]
  },
  {
   "cell_type": "markdown",
   "metadata": {},
   "source": [
    "### 3.5 Pre-processing functions for CFIDF <font color=\"#FF0000\">(Execute Only)</font>"
   ]
  },
  {
   "cell_type": "code",
   "execution_count": 1,
   "metadata": {
    "tags": []
   },
   "outputs": [],
   "source": [
    "# === RUN ===\n",
    "#Function for segmentating strings (Normal)\n",
    "def segmentation(row):\n",
    "    return list(filter(lambda x: x not in df_stopword, jbf2.lcut(str(row), HMM=True)))\n",
    "\n",
    "def segmented_replaceTerms_cfidf(row):\n",
    "  # terms = segmentation(content)\n",
    "  processedTerms = replaceTermsByConcept(ast.literal_eval(row))\n",
    "  return processedTerms\n",
    "\n",
    "def countTerms(content):\n",
    "  return dict(Counter(filter(lambda x: x not in df_stopword, content)))\n",
    "\n",
    "def segment_df_cfidf(row):\n",
    "    terms = segmentation(row)\n",
    "    processedTerms = replaceTermsByConcept(terms)\n",
    "    content = ' '.join(processedTerms)\n",
    "    return content\n",
    "\n",
    "def join_segmented_df_cfidf(row):\n",
    "    # processedTerms = replaceTermsByConcept(ast.literal_eval(row))\n",
    "    content = ' '.join(ast.literal_eval(row))\n",
    "    return content\n",
    "\n",
    "def segmented_df_cfidf_list(row):\n",
    "    processedTerms = replaceTermsByConcept(ast.literal_eval(row))\n",
    "    return processedTerms\n",
    "\n",
    "# Match terms by concept for Counter\n",
    "def matchTermsByConcept_counter(counter):\n",
    "  keys = counter.keys()\n",
    "  tempDict = dict()\n",
    "  def checkAndcreate(term, concept):\n",
    "    if term in conceptDict[concept]:\n",
    "      if tempDict.get(concept, None) == None:\n",
    "        tempDict[concept] = [term]\n",
    "      else:\n",
    "        tempDict[concept] += [term]\n",
    "  \n",
    "  for concept in conceptDict.keys():\n",
    "    for term in keys:\n",
    "      checkAndcreate(term, concept)\n",
    "  \n",
    "  return tempDict\n",
    "\n",
    "# Match terms by concept for list\n",
    "def matchTermsByConcept_list(terms):\n",
    "  tempDict = dict()\n",
    "  \n",
    "  def checkAndcreate(term, concept):\n",
    "    if term in conceptDict[concept]:\n",
    "      if tempDict.get(concept, None) == None:\n",
    "        tempDict[concept] = [term]\n",
    "      else:\n",
    "        tempDict[concept] += [term]\n",
    "  \n",
    "  for concept in conceptDict.keys():\n",
    "    for term in terms:\n",
    "      checkAndcreate(term, concept)\n",
    "  \n",
    "  return tempDict\n",
    "\n",
    "# Replace terms by concept\n",
    "def replaceTermsByConcept(terms):\n",
    "  #remove duplicate\n",
    "  def removeDuplicate(segmentedTerms):\n",
    "    return list(OrderedDict.fromkeys(segmentedTerms))\n",
    "\n",
    "  termsClean = removeDuplicate(terms)\n",
    "  matchedTermsDict = matchTermsByConcept_list(termsClean) #Pass cleaned terms to find matched terms\n",
    "  # print(matchedTermsDict)\n",
    "  result = terms #get the original terms\n",
    "  for key in matchedTermsDict.keys():\n",
    "    for term in matchedTermsDict[key]:\n",
    "      result = [x.replace(term, key) if x == term else x for x in result] #Replace matched terms with concept\n",
    "  return result\n",
    "\n",
    "def cfidfTermsCounting(counter):\n",
    "  columns = {}\n",
    "  columns['total_no_of_terms'] = sum(counter.values())\n",
    "  concepts = conceptDict.keys()\n",
    "  columns['total_no_of_cfidf_concept_terms'] = sum([counter.get(corpus, 0) for corpus in concepts])\n",
    "  for key, value in conceptDict.items():\n",
    "    name = 'no_of_' + key + '_terms'\n",
    "    columns[name] = counter.get(key, 0)\n",
    "  return pd.Series(columns)\n",
    "\n",
    "def cfidfCommentsCounting(content):\n",
    "  columns = {}\n",
    "  columns['total_no_of_comments'] = 1\n",
    "  for key, value in conceptDict.items():\n",
    "    name = 'no_of_' + key + '_comments'\n",
    "    columns[name] = 1 if key in content else 0\n",
    "  return pd.Series(columns)"
   ]
  }
 ],
 "metadata": {
  "kernelspec": {
   "display_name": "Python 3 (ipykernel)",
   "language": "python",
   "name": "python3"
  },
  "language_info": {
   "codemirror_mode": {
    "name": "ipython",
    "version": 3
   },
   "file_extension": ".py",
   "mimetype": "text/x-python",
   "name": "python",
   "nbconvert_exporter": "python",
   "pygments_lexer": "ipython3",
   "version": "3.10.8"
  },
  "vscode": {
   "interpreter": {
    "hash": "326e003017d2f61d2cad5c8beb92ec0e9c3c1b64f6de5ef08ba4150557018833"
   }
  }
 },
 "nbformat": 4,
 "nbformat_minor": 4
}
