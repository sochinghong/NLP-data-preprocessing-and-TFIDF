{
 "cells": [
  {
   "cell_type": "markdown",
   "metadata": {},
   "source": [
    "## 1. Import all the packages/libraries first! <font color=\"#FF0000\">(Execute Only)</font>"
   ]
  },
  {
   "cell_type": "code",
   "execution_count": null,
   "metadata": {
    "jupyter": {
     "source_hidden": true
    },
    "tags": []
   },
   "outputs": [],
   "source": [
    "#=========== RUN ME =========== \n",
    "import os\n",
    "import re\n",
    "import ast\n",
    "import glob\n",
    "import asyncio\n",
    "import pandas as pd\n",
    "import dask.dataframe as dd\n",
    "import numpy as np\n",
    "import swifter\n",
    "import functools\n",
    "import ipywidgets as widgets\n",
    "# from yaspin import yaspin\n",
    "from os import path\n",
    "from os import listdir\n",
    "from os import remove\n",
    "# from threading import Timer\n",
    "from collections import Counter\n",
    "from collections import OrderedDict\n",
    "from datetime import datetime\n",
    "from tqdm import tqdm\n",
    "# from rich.progress import track\n",
    "# from alive_progress import alive_bar\n",
    "from modin.config import ProgressBar\n",
    "ProgressBar.enable()\n",
    "from IPython.display import display, clear_output\n",
    "from ipywidgets import interact, interactive, fixed, interact_manual, \\\n",
    "HBox, VBox, Button, HTML, Tab, Output\n",
    "from sklearn.feature_extraction.text import TfidfVectorizer\n",
    "from sklearn.feature_extraction.text import TfidfTransformer\n",
    "from sklearn.feature_extraction.text import CountVectorizer"
   ]
  },
  {
   "cell_type": "markdown",
   "metadata": {},
   "source": [
    "### 1.1 Set Global Variables for your project <font color=\"#FF0000\">(Execute Only)</font>"
   ]
  },
  {
   "cell_type": "code",
   "execution_count": null,
   "metadata": {
    "jupyter": {
     "source_hidden": true
    },
    "tags": []
   },
   "outputs": [],
   "source": [
    "#Get absolute path instead of relative path\n",
    "DIR = path.dirname(path.abspath(\"__file__\"))\n",
    "CSV_PATH = None\n",
    "DEST_PATH = None\n",
    "CFIDF_CSV_PATH = None\n",
    "TFIDF_CSV_PATH = None\n",
    "RANGE = 0"
   ]
  },
  {
   "cell_type": "markdown",
   "metadata": {
    "tags": []
   },
   "source": [
    "### 1.2 Initialize Widgets #Debounce & Main <font color=\"#FF0000\">(Execute Only)</font>"
   ]
  },
  {
   "cell_type": "code",
   "execution_count": null,
   "metadata": {
    "jupyter": {
     "source_hidden": true
    },
    "tags": []
   },
   "outputs": [],
   "source": [
    "# Debounce\n",
    "class Timer:\n",
    "    def __init__(self, timeout, callback):\n",
    "        self._timeout = timeout\n",
    "        self._callback = callback\n",
    "\n",
    "    async def _job(self):\n",
    "        await asyncio.sleep(self._timeout)\n",
    "        self._callback()\n",
    "\n",
    "    def start(self):\n",
    "        self._task = asyncio.ensure_future(self._job())\n",
    "\n",
    "    def cancel(self):\n",
    "        self._task.cancel()\n",
    "\n",
    "def debounce(wait):\n",
    "    \"\"\" Decorator that will postpone a function's\n",
    "        execution until after `wait` seconds\n",
    "        have elapsed since the last time it was invoked. \"\"\"\n",
    "    def decorator(fn):\n",
    "        timer = None\n",
    "        def debounced(*args, **kwargs):\n",
    "            nonlocal timer\n",
    "            def call_it():\n",
    "                fn(*args, **kwargs)\n",
    "            if timer is not None:\n",
    "                timer.cancel()\n",
    "            timer = Timer(wait, call_it)\n",
    "            timer.start()\n",
    "        return debounced\n",
    "    return decorator\n",
    "    \n",
    "# Folder Dropdown\n",
    "foldersOnly = list(filter(lambda x: path.isdir(x), listdir(DIR)))\n",
    "\n",
    "def Dropdown(options, desc):\n",
    "  return widgets.Dropdown(\n",
    "    options=options,\n",
    "    description=desc,\n",
    "    disabled=False,\n",
    "  )\n",
    "\n",
    "# Folder Path Display Dropdown\n",
    "folderPathLayout = widgets.Layout(width='auto')\n",
    "\n",
    "def folderDisplay(desc):\n",
    "  return widgets.Text(\n",
    "    value='',\n",
    "    placeholder='',\n",
    "    description=desc,\n",
    "    disabled=True,\n",
    "    layout=folderPathLayout\n",
    ")\n",
    "\n",
    "# Button\n",
    "def button(desc):\n",
    "  return widgets.Button(description=desc)\n",
    "\n",
    "## Bounded Integer\n",
    "def boundedInt():\n",
    "  return widgets.BoundedIntText(\n",
    "    value=0,\n",
    "    min=1,\n",
    "    step=1,\n",
    "    description=f'Position: ',\n",
    "    disabled=False\n",
    "  )\n",
    "\n",
    "## Text\n",
    "def inputText(desc):\n",
    "  return widgets.Text(\n",
    "    value='',\n",
    "    placeholder='Type something here',\n",
    "    description=desc,\n",
    "    disabled=False\n",
    ")"
   ]
  },
  {
   "cell_type": "markdown",
   "metadata": {},
   "source": [
    "### 1.3 Initialize Widgets #Functions <font color=\"#FF0000\">(Execute Only)</font>"
   ]
  },
  {
   "cell_type": "code",
   "execution_count": null,
   "metadata": {
    "jupyter": {
     "source_hidden": true
    },
    "tags": []
   },
   "outputs": [],
   "source": [
    "foldersOnly = list(filter(lambda x: path.isdir(x), listdir(DIR)))\n",
    "#Widgets\n",
    "folder_dropdown1 = Dropdown(foldersOnly, 'Folders: ')\n",
    "# =====\n",
    "file_dropdown1 = Dropdown([], 'Select Folder: ')\n",
    "\n",
    "file_dropdown1.style = {'description_width': 'initial'}\n",
    "# =====\n",
    "folder_pathDisplay1 = folderDisplay('Folder Path: ')\n",
    "# =====\n",
    "input_Text = inputText('File name:')\n",
    "# =====\n",
    "btn_load1 = button('Load Source!')\n",
    "btn_load2 = button('Load Previous!')\n",
    "btn_load3 = button('Load Previous!')\n",
    "btn_setDest = button('Set Path!')\n",
    "btn_setRange = button('Set Range!')\n",
    "btn_exeFx = button('Execute!')\n",
    "btn_setFileName = button('Set!')\n",
    "\n",
    "btn_setRange.style = {'description_width': 'initial'}\n",
    "# =====\n",
    "input_boundedInt = boundedInt()\n",
    "# =====\n",
    "# ===========================\n",
    "# ===========================\n",
    "# ===========================\n",
    "\n",
    "# Functions\n",
    "@debounce(0.5)\n",
    "def changeFolder(change):\n",
    "  folder_pathDisplay1.value = path.join(DIR, change['new'])\n",
    "  file_dropdown1.options = listdir(folder_pathDisplay1.value)\n",
    "\n",
    "# Functions for Reading Corpus\n",
    "def loadDataset(btn):\n",
    "  global CSV_PATH\n",
    "  CSV_PATH = glob.glob(path.join(folder_pathDisplay1.value, file_dropdown1.value, '*.csv'))\n",
    "  print(f\"Successfully set {CSV_PATH} as dataset source\")\n",
    "\n",
    "def loadTFIDFDataset(btn):\n",
    "  global TFIDF_CSV_PATH\n",
    "  TFIDF_CSV_PATH = glob.iglob(path.join(folder_pathDisplay1.value, file_dropdown1.value, '*.csv'))\n",
    "  print(f\"Successfully set {TFIDF_CSV_PATH} as TFIDF dataset source\")\n",
    "\n",
    "def loadCFIDFDataset(btn):\n",
    "  global CFIDF_CSV_PATH\n",
    "  CFIDF_CSV_PATH = glob.iglob(path.join(folder_pathDisplay1.value, file_dropdown1.value, '*.csv'))\n",
    "  print(f\"Successfully set {CFIDF_CSV_PATH} as CSIDF dataset source\")\n",
    "\n",
    "def setDestination(btn):\n",
    "  global RANGE, DEST_PATH\n",
    "  RANGE = 1\n",
    "  DEST_PATH = path.join(folder_pathDisplay1.value, file_dropdown1.value)\n",
    "  print(f\"Successfully set {DEST_PATH} as destination\")\n",
    "  print(f\"Default file starting position is {RANGE}\")\n",
    "\n",
    "def setRange(btn):\n",
    "  global RANGE\n",
    "  RANGE = input_boundedInt.value\n",
    "  print(f\"Successfully set file starting position to {RANGE}\")\n",
    "\n",
    "folder_dropdown1.observe(changeFolder, 'value')"
   ]
  },
  {
   "cell_type": "markdown",
   "metadata": {},
   "source": [
    "### 1.4 Initialize Widgets #Tabs <font color=\"#FF0000\">(Execute Only)</font>"
   ]
  },
  {
   "cell_type": "code",
   "execution_count": null,
   "metadata": {
    "jupyter": {
     "source_hidden": true
    },
    "tags": []
   },
   "outputs": [],
   "source": [
    "tabTitles = [\"Load Dataset\", \"Set File Name\", \"Select Column\", \"Load Previous Output\", \"Load Previous Output\", \"Set Output Destination\", \"Set Range\", \"Execute!\"]\n",
    "#Tab\n",
    "tab = Tab()\n",
    "#Tab Widgets\n",
    "tab_load1 = VBox([\n",
    "  widgets.HTML(value=\"<b><font style='color:red'>Select & Load your dataset Folder:</font></b>\"),\n",
    "  folder_dropdown1,\n",
    "  folder_pathDisplay1,\n",
    "  file_dropdown1,\n",
    "  btn_load1\n",
    "])\n",
    "\n",
    "tab_setFileName = VBox([\n",
    "  widgets.HTML(value=\"<b>Default output to main folder not assets!!</b>\"),\n",
    "  widgets.HTML(value=\"<b><font style='color:red'>Set output filename:</font></b>\"),\n",
    "  input_Text,\n",
    "  btn_setFileName\n",
    "])\n",
    "\n",
    "tab_loadPrevious = VBox([\n",
    "  widgets.HTML(value=\"Select & Load your previous output folder\"),\n",
    "  folder_dropdown1,\n",
    "  folder_pathDisplay1,\n",
    "  file_dropdown1,\n",
    "  btn_load2\n",
    "])\n",
    "\n",
    "tab_loadPrevious2 = VBox([\n",
    "  widgets.HTML(value=\"Select & Load your previous output folder\"),\n",
    "  folder_dropdown1,\n",
    "  folder_pathDisplay1,\n",
    "  file_dropdown1,\n",
    "  btn_load3\n",
    "])\n",
    "\n",
    "tab_setDest = VBox([\n",
    "  widgets.HTML(value=\"Select Output Destination: <b><font style='color:red'>Make sure you have created a folder first!</font></b>\"),\n",
    "  folder_dropdown1,\n",
    "  folder_pathDisplay1,\n",
    "  file_dropdown1,\n",
    "  btn_setDest\n",
    "  ])\n",
    "\n",
    "tab_setRange = VBox([\n",
    "  widgets.HTML(value=\"Set the Starting Position for processing: <b>Default processing the <font style='color:red'>FIRST</font> file</b>\"),\n",
    "  input_boundedInt,\n",
    "  btn_setRange\n",
    "])\n",
    "\n",
    "tab_execute = VBox([\n",
    "  widgets.HTML(value='<b>If Everything is ready, Click the button below:</b>'),\n",
    "  btn_exeFx\n",
    "])"
   ]
  }
 ],
 "metadata": {
  "kernelspec": {
   "display_name": "Python 3 (ipykernel)",
   "language": "python",
   "name": "python3"
  },
  "language_info": {
   "codemirror_mode": {
    "name": "ipython",
    "version": 3
   },
   "file_extension": ".py",
   "mimetype": "text/x-python",
   "name": "python",
   "nbconvert_exporter": "python",
   "pygments_lexer": "ipython3",
   "version": "3.10.5 | packaged by conda-forge | (main, Jun 14 2022, 06:57:19) [MSC v.1929 64 bit (AMD64)]"
  },
  "vscode": {
   "interpreter": {
    "hash": "326e003017d2f61d2cad5c8beb92ec0e9c3c1b64f6de5ef08ba4150557018833"
   }
  }
 },
 "nbformat": 4,
 "nbformat_minor": 4
}
